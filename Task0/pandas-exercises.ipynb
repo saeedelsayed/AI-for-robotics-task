{
 "cells": [
  {
   "cell_type": "markdown",
   "metadata": {},
   "source": [
    "# Pandas Practice\n",
    "\n",
    "This notebook is dedicated to practicing different tasks with pandas. The solutions are available,  however, you should always try to figure them out yourself first.\n",
    "\n",
    "It should be noted there may be more than one different way to answer a question or complete an exercise.\n",
    "\n",
    "Different tasks will be detailed by comments or text.\n",
    "\n",
    "For further reference and resources, it's advised to check out the [pandas documentation](https://pandas.pydata.org/pandas-docs/stable/)."
   ]
  },
  {
   "cell_type": "code",
   "execution_count": 29,
   "metadata": {},
   "outputs": [],
   "source": [
    "# Import pandas\n",
    "import pandas as pd"
   ]
  },
  {
   "cell_type": "code",
   "execution_count": 30,
   "metadata": {},
   "outputs": [],
   "source": [
    "# Create a series of three different colours\n",
    "colors_list = ['red', 'blue', 'green']"
   ]
  },
  {
   "cell_type": "code",
   "execution_count": 31,
   "metadata": {},
   "outputs": [
    {
     "name": "stdout",
     "output_type": "stream",
     "text": [
      "['red', 'blue', 'green']\n"
     ]
    }
   ],
   "source": [
    "# View the series of different colours\n",
    "print(colors_list)"
   ]
  },
  {
   "cell_type": "code",
   "execution_count": 32,
   "metadata": {},
   "outputs": [
    {
     "name": "stdout",
     "output_type": "stream",
     "text": [
      "['Marcedes', 'BMW', 'Toyota']\n"
     ]
    }
   ],
   "source": [
    "# Create a series of three different car types and view it\n",
    "cars_list = ['Marcedes', 'BMW', 'Toyota']\n",
    "print(cars_list)"
   ]
  },
  {
   "cell_type": "code",
   "execution_count": 33,
   "metadata": {},
   "outputs": [],
   "source": [
    "# Combine the Series of cars and colours into a DataFrame\n",
    "df = pd.DataFrame({'colors':colors_list, 'cars':cars_list})"
   ]
  },
  {
   "cell_type": "code",
   "execution_count": 34,
   "metadata": {},
   "outputs": [],
   "source": [
    "# Import \"../data/car-sales.csv\" and turn it into a DataFrame\n",
    "df2 = pd.read_csv('data/car-sales.csv') "
   ]
  },
  {
   "cell_type": "code",
   "execution_count": 35,
   "metadata": {},
   "outputs": [],
   "source": [
    "# Export the DataFrame you created to a .csv file\n",
    "df.to_csv('data/cars_and_colors.csv', index=False)"
   ]
  },
  {
   "cell_type": "code",
   "execution_count": 36,
   "metadata": {},
   "outputs": [
    {
     "name": "stdout",
     "output_type": "stream",
     "text": [
      "Make             object\n",
      "Colour           object\n",
      "Odometer (KM)     int64\n",
      "Doors             int64\n",
      "Price            object\n",
      "dtype: object\n"
     ]
    }
   ],
   "source": [
    "# Find the different datatypes of the car data DataFrame\n",
    "print(df2.dtypes)"
   ]
  },
  {
   "cell_type": "code",
   "execution_count": 37,
   "metadata": {},
   "outputs": [
    {
     "name": "stdout",
     "output_type": "stream",
     "text": [
      "       Odometer (KM)      Doors\n",
      "count      10.000000  10.000000\n",
      "mean    78601.400000   4.000000\n",
      "std     61983.471735   0.471405\n",
      "min     11179.000000   3.000000\n",
      "25%     35836.250000   4.000000\n",
      "50%     57369.000000   4.000000\n",
      "75%     96384.500000   4.000000\n",
      "max    213095.000000   5.000000\n"
     ]
    }
   ],
   "source": [
    "# Describe your current car sales DataFrame using describe()\n",
    "print(df2.describe())"
   ]
  },
  {
   "cell_type": "code",
   "execution_count": 38,
   "metadata": {},
   "outputs": [
    {
     "name": "stdout",
     "output_type": "stream",
     "text": [
      "<class 'pandas.core.frame.DataFrame'>\n",
      "RangeIndex: 10 entries, 0 to 9\n",
      "Data columns (total 5 columns):\n",
      " #   Column         Non-Null Count  Dtype \n",
      "---  ------         --------------  ----- \n",
      " 0   Make           10 non-null     object\n",
      " 1   Colour         10 non-null     object\n",
      " 2   Odometer (KM)  10 non-null     int64 \n",
      " 3   Doors          10 non-null     int64 \n",
      " 4   Price          10 non-null     object\n",
      "dtypes: int64(2), object(3)\n",
      "memory usage: 528.0+ bytes\n",
      "None\n"
     ]
    }
   ],
   "source": [
    "# Get information about your DataFrame using info()\n",
    "print(df2.info())"
   ]
  },
  {
   "cell_type": "markdown",
   "metadata": {},
   "source": [
    "What does it show you?"
   ]
  },
  {
   "cell_type": "code",
   "execution_count": 39,
   "metadata": {},
   "outputs": [
    {
     "name": "stdout",
     "output_type": "stream",
     "text": [
      "0    5.166667\n",
      "dtype: float64\n"
     ]
    }
   ],
   "source": [
    "# Create a Series of different numbers and find the mean of them\n",
    "numbers_list = [6,8,5,7,4,1]\n",
    "df = pd.DataFrame(numbers_list)\n",
    "mean = df.mean()\n",
    "print(mean)"
   ]
  },
  {
   "cell_type": "code",
   "execution_count": 40,
   "metadata": {},
   "outputs": [
    {
     "name": "stdout",
     "output_type": "stream",
     "text": [
      "0    31\n",
      "dtype: int64\n"
     ]
    }
   ],
   "source": [
    "# Create a Series of different numbers and find the sum of them\n",
    "numbers_list = [6,8,5,7,4,1]\n",
    "df = pd.DataFrame(numbers_list)\n",
    "sum = df.sum()\n",
    "print(sum) "
   ]
  },
  {
   "cell_type": "code",
   "execution_count": 41,
   "metadata": {},
   "outputs": [
    {
     "name": "stdout",
     "output_type": "stream",
     "text": [
      "<bound method IndexOpsMixin.tolist of Index(['Make', 'Colour', 'Odometer (KM)', 'Doors', 'Price'], dtype='object')>\n"
     ]
    }
   ],
   "source": [
    "# List out all the column names of the car sales DataFrame\n",
    "print(df2.columns.to_list)"
   ]
  },
  {
   "cell_type": "code",
   "execution_count": 42,
   "metadata": {},
   "outputs": [
    {
     "name": "stdout",
     "output_type": "stream",
     "text": [
      "10\n"
     ]
    }
   ],
   "source": [
    "# Find the length of the car sales DataFrame\n",
    "print(len(df2))"
   ]
  },
  {
   "cell_type": "code",
   "execution_count": 43,
   "metadata": {},
   "outputs": [
    {
     "name": "stdout",
     "output_type": "stream",
     "text": [
      "     Make Colour  Odometer (KM)  Doors       Price\n",
      "0  Toyota  White         150043      4   $4,000.00\n",
      "1   Honda    Red          87899      4   $5,000.00\n",
      "2  Toyota   Blue          32549      3   $7,000.00\n",
      "3     BMW  Black          11179      5  $22,000.00\n",
      "4  Nissan  White         213095      4   $3,500.00\n"
     ]
    }
   ],
   "source": [
    "# Show the first 5 rows of the car sales DataFrame\n",
    "print(df2.head())"
   ]
  },
  {
   "cell_type": "code",
   "execution_count": 44,
   "metadata": {},
   "outputs": [
    {
     "name": "stdout",
     "output_type": "stream",
     "text": [
      "     Make Colour  Odometer (KM)  Doors       Price\n",
      "0  Toyota  White         150043      4   $4,000.00\n",
      "1   Honda    Red          87899      4   $5,000.00\n",
      "2  Toyota   Blue          32549      3   $7,000.00\n",
      "3     BMW  Black          11179      5  $22,000.00\n",
      "4  Nissan  White         213095      4   $3,500.00\n",
      "5  Toyota  Green          99213      4   $4,500.00\n",
      "6   Honda   Blue          45698      4   $7,500.00\n"
     ]
    }
   ],
   "source": [
    "# Show the first 7 rows of the car sales DataFrame\n",
    "print(df2.head(7))"
   ]
  },
  {
   "cell_type": "code",
   "execution_count": 45,
   "metadata": {},
   "outputs": [
    {
     "name": "stdout",
     "output_type": "stream",
     "text": [
      "     Make Colour  Odometer (KM)  Doors      Price\n",
      "5  Toyota  Green          99213      4  $4,500.00\n",
      "6   Honda   Blue          45698      4  $7,500.00\n",
      "7   Honda   Blue          54738      4  $7,000.00\n",
      "8  Toyota  White          60000      4  $6,250.00\n",
      "9  Nissan  White          31600      4  $9,700.00\n"
     ]
    }
   ],
   "source": [
    "# Show the bottom 5 rows of the car sales DataFrame\n",
    "print(df2.tail())"
   ]
  },
  {
   "cell_type": "code",
   "execution_count": 46,
   "metadata": {},
   "outputs": [
    {
     "name": "stdout",
     "output_type": "stream",
     "text": [
      "Make                    BMW\n",
      "Colour                Black\n",
      "Odometer (KM)         11179\n",
      "Doors                     5\n",
      "Price            $22,000.00\n",
      "Name: 3, dtype: object\n"
     ]
    }
   ],
   "source": [
    "# Use .loc to select the row at index 3 of the car sales DataFrame\n",
    "print(df2.loc[3])"
   ]
  },
  {
   "cell_type": "code",
   "execution_count": 47,
   "metadata": {},
   "outputs": [
    {
     "name": "stdout",
     "output_type": "stream",
     "text": [
      "Make                    BMW\n",
      "Colour                Black\n",
      "Odometer (KM)         11179\n",
      "Doors                     5\n",
      "Price            $22,000.00\n",
      "Name: 3, dtype: object\n"
     ]
    }
   ],
   "source": [
    "# Use .iloc to select the row at position 3 of the car sales DataFrame\n",
    "print(df2.iloc[3])"
   ]
  },
  {
   "cell_type": "markdown",
   "metadata": {},
   "source": [
    "Notice how they're the same? Why do you think this is? \n",
    "\n",
    "Check the pandas documentation for [.loc](https://pandas.pydata.org/pandas-docs/stable/reference/api/pandas.DataFrame.loc.html) and [.iloc](https://pandas.pydata.org/pandas-docs/stable/reference/api/pandas.DataFrame.iloc.html). Think about a different situation each could be used for and try them out."
   ]
  },
  {
   "cell_type": "code",
   "execution_count": 48,
   "metadata": {},
   "outputs": [],
   "source": [
    "# Select the \"Odometer (KM)\" column from the car sales DataFrame\n",
    "colm = df2[\"Odometer (KM)\"]"
   ]
  },
  {
   "cell_type": "code",
   "execution_count": 49,
   "metadata": {},
   "outputs": [
    {
     "name": "stdout",
     "output_type": "stream",
     "text": [
      "78601.4\n"
     ]
    }
   ],
   "source": [
    "# Find the mean of the \"Odometer (KM)\" column in the car sales DataFrame\n",
    "colm_mean = colm.mean()\n",
    "print(colm_mean)"
   ]
  },
  {
   "cell_type": "code",
   "execution_count": 50,
   "metadata": {},
   "outputs": [],
   "source": [
    "# Select the rows with over 100,000 kilometers on the Odometer\n",
    "odmeter_ovr_100 = df2[df2['Odometer (KM)']>100000] "
   ]
  },
  {
   "cell_type": "code",
   "execution_count": 51,
   "metadata": {},
   "outputs": [
    {
     "data": {
      "text/html": [
       "<div>\n",
       "<style scoped>\n",
       "    .dataframe tbody tr th:only-of-type {\n",
       "        vertical-align: middle;\n",
       "    }\n",
       "\n",
       "    .dataframe tbody tr th {\n",
       "        vertical-align: top;\n",
       "    }\n",
       "\n",
       "    .dataframe thead th {\n",
       "        text-align: right;\n",
       "    }\n",
       "</style>\n",
       "<table border=\"1\" class=\"dataframe\">\n",
       "  <thead>\n",
       "    <tr style=\"text-align: right;\">\n",
       "      <th>Doors</th>\n",
       "      <th>3</th>\n",
       "      <th>4</th>\n",
       "      <th>5</th>\n",
       "    </tr>\n",
       "    <tr>\n",
       "      <th>Make</th>\n",
       "      <th></th>\n",
       "      <th></th>\n",
       "      <th></th>\n",
       "    </tr>\n",
       "  </thead>\n",
       "  <tbody>\n",
       "    <tr>\n",
       "      <th>BMW</th>\n",
       "      <td>0</td>\n",
       "      <td>0</td>\n",
       "      <td>1</td>\n",
       "    </tr>\n",
       "    <tr>\n",
       "      <th>Honda</th>\n",
       "      <td>0</td>\n",
       "      <td>3</td>\n",
       "      <td>0</td>\n",
       "    </tr>\n",
       "    <tr>\n",
       "      <th>Nissan</th>\n",
       "      <td>0</td>\n",
       "      <td>2</td>\n",
       "      <td>0</td>\n",
       "    </tr>\n",
       "    <tr>\n",
       "      <th>Toyota</th>\n",
       "      <td>1</td>\n",
       "      <td>3</td>\n",
       "      <td>0</td>\n",
       "    </tr>\n",
       "  </tbody>\n",
       "</table>\n",
       "</div>"
      ],
      "text/plain": [
       "Doors   3  4  5\n",
       "Make           \n",
       "BMW     0  0  1\n",
       "Honda   0  3  0\n",
       "Nissan  0  2  0\n",
       "Toyota  1  3  0"
      ]
     },
     "execution_count": 51,
     "metadata": {},
     "output_type": "execute_result"
    }
   ],
   "source": [
    "# Create a crosstab of the Make and Doors columns\n",
    "pd.crosstab(df2[\"Make\"], df2[\"Doors\"])\n"
   ]
  },
  {
   "cell_type": "code",
   "execution_count": 52,
   "metadata": {},
   "outputs": [
    {
     "name": "stderr",
     "output_type": "stream",
     "text": [
      "C:\\Users\\EGYPT\\AppData\\Local\\Temp\\ipykernel_3440\\258660680.py:2: FutureWarning: The default value of numeric_only in DataFrameGroupBy.mean is deprecated. In a future version, numeric_only will default to False. Either specify numeric_only or select only columns which should be valid for the function.\n",
      "  df2.groupby(\"Make\").mean()\n"
     ]
    },
    {
     "data": {
      "text/html": [
       "<div>\n",
       "<style scoped>\n",
       "    .dataframe tbody tr th:only-of-type {\n",
       "        vertical-align: middle;\n",
       "    }\n",
       "\n",
       "    .dataframe tbody tr th {\n",
       "        vertical-align: top;\n",
       "    }\n",
       "\n",
       "    .dataframe thead th {\n",
       "        text-align: right;\n",
       "    }\n",
       "</style>\n",
       "<table border=\"1\" class=\"dataframe\">\n",
       "  <thead>\n",
       "    <tr style=\"text-align: right;\">\n",
       "      <th></th>\n",
       "      <th>Odometer (KM)</th>\n",
       "      <th>Doors</th>\n",
       "    </tr>\n",
       "    <tr>\n",
       "      <th>Make</th>\n",
       "      <th></th>\n",
       "      <th></th>\n",
       "    </tr>\n",
       "  </thead>\n",
       "  <tbody>\n",
       "    <tr>\n",
       "      <th>BMW</th>\n",
       "      <td>11179.000000</td>\n",
       "      <td>5.00</td>\n",
       "    </tr>\n",
       "    <tr>\n",
       "      <th>Honda</th>\n",
       "      <td>62778.333333</td>\n",
       "      <td>4.00</td>\n",
       "    </tr>\n",
       "    <tr>\n",
       "      <th>Nissan</th>\n",
       "      <td>122347.500000</td>\n",
       "      <td>4.00</td>\n",
       "    </tr>\n",
       "    <tr>\n",
       "      <th>Toyota</th>\n",
       "      <td>85451.250000</td>\n",
       "      <td>3.75</td>\n",
       "    </tr>\n",
       "  </tbody>\n",
       "</table>\n",
       "</div>"
      ],
      "text/plain": [
       "        Odometer (KM)  Doors\n",
       "Make                        \n",
       "BMW      11179.000000   5.00\n",
       "Honda    62778.333333   4.00\n",
       "Nissan  122347.500000   4.00\n",
       "Toyota   85451.250000   3.75"
      ]
     },
     "execution_count": 52,
     "metadata": {},
     "output_type": "execute_result"
    }
   ],
   "source": [
    "# Group columns of the car sales DataFrame by the Make column and find the average\n",
    "df2.groupby(\"Make\").mean()\n"
   ]
  },
  {
   "cell_type": "code",
   "execution_count": 53,
   "metadata": {},
   "outputs": [
    {
     "data": {
      "text/plain": [
       "[<matplotlib.lines.Line2D at 0x245921dd640>]"
      ]
     },
     "execution_count": 53,
     "metadata": {},
     "output_type": "execute_result"
    },
    {
     "data": {
      "image/png": "[encoded data removed]",
      "text/plain": [
       "<Figure size 640x480 with 1 Axes>"
      ]
     },
     "metadata": {},
     "output_type": "display_data"
    }
   ],
   "source": [
    "# Import Matplotlib and create a plot of the Odometer column\n",
    "import matplotlib.pyplot as plt\n",
    "%matplotlib inline\n",
    "\n",
    "plt.plot(df2['Odometer (KM)'])\n",
    "# Don't forget to use %matplotlib inline\n"
   ]
  },
  {
   "cell_type": "code",
   "execution_count": 54,
   "metadata": {},
   "outputs": [
    {
     "data": {
      "text/plain": [
       "array([[<Axes: title={'center': 'Odometer (KM)'}>]], dtype=object)"
      ]
     },
     "execution_count": 54,
     "metadata": {},
     "output_type": "execute_result"
    },
    {
     "data": {
      "image/png": "[encoded data removed]",
      "text/plain": [
       "<Figure size 640x480 with 1 Axes>"
      ]
     },
     "metadata": {},
     "output_type": "display_data"
    }
   ],
   "source": [
    "# Create a histogram of the Odometer column using hist()\n",
    "df2.hist('Odometer (KM)')"
   ]
  },
  {
   "cell_type": "code",
   "execution_count": 55,
   "metadata": {},
   "outputs": [
    {
     "ename": "TypeError",
     "evalue": "no numeric data to plot",
     "output_type": "error",
     "traceback": [
      "\u001b[1;31m---------------------------------------------------------------------------\u001b[0m",
      "\u001b[1;31mTypeError\u001b[0m                                 Traceback (most recent call last)",
      "\u001b[1;32m~\\AppData\\Local\\Temp\\ipykernel_3440\\334854583.py\u001b[0m in \u001b[0;36m<module>\u001b[1;34m\u001b[0m\n\u001b[0;32m      1\u001b[0m \u001b[1;31m# Try to plot the Price column using plot()\u001b[0m\u001b[1;33m\u001b[0m\u001b[1;33m\u001b[0m\u001b[0m\n\u001b[1;32m----> 2\u001b[1;33m \u001b[0mdf2\u001b[0m\u001b[1;33m[\u001b[0m\u001b[1;34m'Price'\u001b[0m\u001b[1;33m]\u001b[0m\u001b[1;33m.\u001b[0m\u001b[0mplot\u001b[0m\u001b[1;33m(\u001b[0m\u001b[1;33m)\u001b[0m\u001b[1;33m\u001b[0m\u001b[1;33m\u001b[0m\u001b[0m\n\u001b[0m",
      "\u001b[1;32mc:\\Users\\EGYPT\\anaconda3\\lib\\site-packages\\pandas\\plotting\\_core.py\u001b[0m in \u001b[0;36m__call__\u001b[1;34m(self, *args, **kwargs)\u001b[0m\n\u001b[0;32m    998\u001b[0m                     \u001b[0mdata\u001b[0m\u001b[1;33m.\u001b[0m\u001b[0mcolumns\u001b[0m \u001b[1;33m=\u001b[0m \u001b[0mlabel_name\u001b[0m\u001b[1;33m\u001b[0m\u001b[1;33m\u001b[0m\u001b[0m\n\u001b[0;32m    999\u001b[0m \u001b[1;33m\u001b[0m\u001b[0m\n\u001b[1;32m-> 1000\u001b[1;33m         \u001b[1;32mreturn\u001b[0m \u001b[0mplot_backend\u001b[0m\u001b[1;33m.\u001b[0m\u001b[0mplot\u001b[0m\u001b[1;33m(\u001b[0m\u001b[0mdata\u001b[0m\u001b[1;33m,\u001b[0m \u001b[0mkind\u001b[0m\u001b[1;33m=\u001b[0m\u001b[0mkind\u001b[0m\u001b[1;33m,\u001b[0m \u001b[1;33m**\u001b[0m\u001b[0mkwargs\u001b[0m\u001b[1;33m)\u001b[0m\u001b[1;33m\u001b[0m\u001b[1;33m\u001b[0m\u001b[0m\n\u001b[0m\u001b[0;32m   1001\u001b[0m \u001b[1;33m\u001b[0m\u001b[0m\n\u001b[0;32m   1002\u001b[0m     \u001b[0m__call__\u001b[0m\u001b[1;33m.\u001b[0m\u001b[0m__doc__\u001b[0m \u001b[1;33m=\u001b[0m \u001b[0m__doc__\u001b[0m\u001b[1;33m\u001b[0m\u001b[1;33m\u001b[0m\u001b[0m\n",
      "\u001b[1;32mc:\\Users\\EGYPT\\anaconda3\\lib\\site-packages\\pandas\\plotting\\_matplotlib\\__init__.py\u001b[0m in \u001b[0;36mplot\u001b[1;34m(data, kind, **kwargs)\u001b[0m\n\u001b[0;32m     69\u001b[0m             \u001b[0mkwargs\u001b[0m\u001b[1;33m[\u001b[0m\u001b[1;34m\"ax\"\u001b[0m\u001b[1;33m]\u001b[0m \u001b[1;33m=\u001b[0m \u001b[0mgetattr\u001b[0m\u001b[1;33m(\u001b[0m\u001b[0max\u001b[0m\u001b[1;33m,\u001b[0m \u001b[1;34m\"left_ax\"\u001b[0m\u001b[1;33m,\u001b[0m \u001b[0max\u001b[0m\u001b[1;33m)\u001b[0m\u001b[1;33m\u001b[0m\u001b[1;33m\u001b[0m\u001b[0m\n\u001b[0;32m     70\u001b[0m     \u001b[0mplot_obj\u001b[0m \u001b[1;33m=\u001b[0m \u001b[0mPLOT_CLASSES\u001b[0m\u001b[1;33m[\u001b[0m\u001b[0mkind\u001b[0m\u001b[1;33m]\u001b[0m\u001b[1;33m(\u001b[0m\u001b[0mdata\u001b[0m\u001b[1;33m,\u001b[0m \u001b[1;33m**\u001b[0m\u001b[0mkwargs\u001b[0m\u001b[1;33m)\u001b[0m\u001b[1;33m\u001b[0m\u001b[1;33m\u001b[0m\u001b[0m\n\u001b[1;32m---> 71\u001b[1;33m     \u001b[0mplot_obj\u001b[0m\u001b[1;33m.\u001b[0m\u001b[0mgenerate\u001b[0m\u001b[1;33m(\u001b[0m\u001b[1;33m)\u001b[0m\u001b[1;33m\u001b[0m\u001b[1;33m\u001b[0m\u001b[0m\n\u001b[0m\u001b[0;32m     72\u001b[0m     \u001b[0mplot_obj\u001b[0m\u001b[1;33m.\u001b[0m\u001b[0mdraw\u001b[0m\u001b[1;33m(\u001b[0m\u001b[1;33m)\u001b[0m\u001b[1;33m\u001b[0m\u001b[1;33m\u001b[0m\u001b[0m\n\u001b[0;32m     73\u001b[0m     \u001b[1;32mreturn\u001b[0m \u001b[0mplot_obj\u001b[0m\u001b[1;33m.\u001b[0m\u001b[0mresult\u001b[0m\u001b[1;33m\u001b[0m\u001b[1;33m\u001b[0m\u001b[0m\n",
      "\u001b[1;32mc:\\Users\\EGYPT\\anaconda3\\lib\\site-packages\\pandas\\plotting\\_matplotlib\\core.py\u001b[0m in \u001b[0;36mgenerate\u001b[1;34m(self)\u001b[0m\n\u001b[0;32m    448\u001b[0m     \u001b[1;32mdef\u001b[0m \u001b[0mgenerate\u001b[0m\u001b[1;33m(\u001b[0m\u001b[0mself\u001b[0m\u001b[1;33m)\u001b[0m \u001b[1;33m->\u001b[0m \u001b[1;32mNone\u001b[0m\u001b[1;33m:\u001b[0m\u001b[1;33m\u001b[0m\u001b[1;33m\u001b[0m\u001b[0m\n\u001b[0;32m    449\u001b[0m         \u001b[0mself\u001b[0m\u001b[1;33m.\u001b[0m\u001b[0m_args_adjust\u001b[0m\u001b[1;33m(\u001b[0m\u001b[1;33m)\u001b[0m\u001b[1;33m\u001b[0m\u001b[1;33m\u001b[0m\u001b[0m\n\u001b[1;32m--> 450\u001b[1;33m         \u001b[0mself\u001b[0m\u001b[1;33m.\u001b[0m\u001b[0m_compute_plot_data\u001b[0m\u001b[1;33m(\u001b[0m\u001b[1;33m)\u001b[0m\u001b[1;33m\u001b[0m\u001b[1;33m\u001b[0m\u001b[0m\n\u001b[0m\u001b[0;32m    451\u001b[0m         \u001b[0mself\u001b[0m\u001b[1;33m.\u001b[0m\u001b[0m_setup_subplots\u001b[0m\u001b[1;33m(\u001b[0m\u001b[1;33m)\u001b[0m\u001b[1;33m\u001b[0m\u001b[1;33m\u001b[0m\u001b[0m\n\u001b[0;32m    452\u001b[0m         \u001b[0mself\u001b[0m\u001b[1;33m.\u001b[0m\u001b[0m_make_plot\u001b[0m\u001b[1;33m(\u001b[0m\u001b[1;33m)\u001b[0m\u001b[1;33m\u001b[0m\u001b[1;33m\u001b[0m\u001b[0m\n",
      "\u001b[1;32mc:\\Users\\EGYPT\\anaconda3\\lib\\site-packages\\pandas\\plotting\\_matplotlib\\core.py\u001b[0m in \u001b[0;36m_compute_plot_data\u001b[1;34m(self)\u001b[0m\n\u001b[0;32m    633\u001b[0m         \u001b[1;31m# no non-numeric frames or series allowed\u001b[0m\u001b[1;33m\u001b[0m\u001b[1;33m\u001b[0m\u001b[0m\n\u001b[0;32m    634\u001b[0m         \u001b[1;32mif\u001b[0m \u001b[0mis_empty\u001b[0m\u001b[1;33m:\u001b[0m\u001b[1;33m\u001b[0m\u001b[1;33m\u001b[0m\u001b[0m\n\u001b[1;32m--> 635\u001b[1;33m             \u001b[1;32mraise\u001b[0m \u001b[0mTypeError\u001b[0m\u001b[1;33m(\u001b[0m\u001b[1;34m\"no numeric data to plot\"\u001b[0m\u001b[1;33m)\u001b[0m\u001b[1;33m\u001b[0m\u001b[1;33m\u001b[0m\u001b[0m\n\u001b[0m\u001b[0;32m    636\u001b[0m \u001b[1;33m\u001b[0m\u001b[0m\n\u001b[0;32m    637\u001b[0m         \u001b[0mself\u001b[0m\u001b[1;33m.\u001b[0m\u001b[0mdata\u001b[0m \u001b[1;33m=\u001b[0m \u001b[0mnumeric_data\u001b[0m\u001b[1;33m.\u001b[0m\u001b[0mapply\u001b[0m\u001b[1;33m(\u001b[0m\u001b[0mself\u001b[0m\u001b[1;33m.\u001b[0m\u001b[0m_convert_to_ndarray\u001b[0m\u001b[1;33m)\u001b[0m\u001b[1;33m\u001b[0m\u001b[1;33m\u001b[0m\u001b[0m\n",
      "\u001b[1;31mTypeError\u001b[0m: no numeric data to plot"
     ]
    }
   ],
   "source": [
    "# Try to plot the Price column using plot()\n",
    "df2['Price'].plot()"
   ]
  },
  {
   "cell_type": "markdown",
   "metadata": {},
   "source": [
    "Why didn't it work? Can you think of a solution?\n",
    "\n",
    "You might want to search for \"how to convert a pandas string column to numbers\".\n",
    "\n",
    "And if you're still stuck, check out this [Stack Overflow question and answer on turning a price column into integers](https://stackoverflow.com/questions/44469313/price-column-object-to-int-in-pandas).\n",
    "\n",
    "See how you can provide the example code there to the problem here."
   ]
  },
  {
   "cell_type": "code",
   "execution_count": 57,
   "metadata": {},
   "outputs": [
    {
     "name": "stderr",
     "output_type": "stream",
     "text": [
      "C:\\Users\\EGYPT\\AppData\\Local\\Temp\\ipykernel_3440\\1644175752.py:2: FutureWarning: The default value of regex will change from True to False in a future version.\n",
      "  df2['Price'] = df2['Price'].astype(str).str.replace('[^\\d.]','')\n"
     ]
    }
   ],
   "source": [
    "# Remove the punctuation from price column\n",
    "df2['Price'] = df2['Price'].astype(str).str.replace('[^\\d.]','')"
   ]
  },
  {
   "cell_type": "code",
   "execution_count": 58,
   "metadata": {},
   "outputs": [
    {
     "name": "stdout",
     "output_type": "stream",
     "text": [
      "     Make Colour  Odometer (KM)  Doors     Price\n",
      "0  Toyota  White         150043      4   4000.00\n",
      "1   Honda    Red          87899      4   5000.00\n",
      "2  Toyota   Blue          32549      3   7000.00\n",
      "3     BMW  Black          11179      5  22000.00\n",
      "4  Nissan  White         213095      4   3500.00\n",
      "5  Toyota  Green          99213      4   4500.00\n",
      "6   Honda   Blue          45698      4   7500.00\n",
      "7   Honda   Blue          54738      4   7000.00\n",
      "8  Toyota  White          60000      4   6250.00\n",
      "9  Nissan  White          31600      4   9700.00\n"
     ]
    }
   ],
   "source": [
    "# Check the changes to the price column\n",
    "print(df2)"
   ]
  },
  {
   "cell_type": "code",
   "execution_count": 59,
   "metadata": {},
   "outputs": [],
   "source": [
    "# Remove the two extra zeros at the end of the price column\n",
    "df2['Price'] = df2['Price'].str[:-2].astype(float)"
   ]
  },
  {
   "cell_type": "code",
   "execution_count": 60,
   "metadata": {},
   "outputs": [
    {
     "name": "stdout",
     "output_type": "stream",
     "text": [
      "     Make Colour  Odometer (KM)  Doors    Price\n",
      "0  Toyota  White         150043      4   4000.0\n",
      "1   Honda    Red          87899      4   5000.0\n",
      "2  Toyota   Blue          32549      3   7000.0\n",
      "3     BMW  Black          11179      5  22000.0\n",
      "4  Nissan  White         213095      4   3500.0\n",
      "5  Toyota  Green          99213      4   4500.0\n",
      "6   Honda   Blue          45698      4   7500.0\n",
      "7   Honda   Blue          54738      4   7000.0\n",
      "8  Toyota  White          60000      4   6250.0\n",
      "9  Nissan  White          31600      4   9700.0\n"
     ]
    }
   ],
   "source": [
    "# Check the changes to the Price column\n",
    "print(df2)"
   ]
  },
  {
   "cell_type": "code",
   "execution_count": 61,
   "metadata": {},
   "outputs": [],
   "source": [
    "# Change the datatype of the Price column to integers\n",
    "df2['Price'] = df2['Price'].astype(int)"
   ]
  },
  {
   "cell_type": "code",
   "execution_count": 63,
   "metadata": {},
   "outputs": [
    {
     "name": "stdout",
     "output_type": "stream",
     "text": [
      "     Make Colour  Odometer (KM)  Doors  Price\n",
      "0  toyota  White         150043      4   4000\n",
      "1   honda    Red          87899      4   5000\n",
      "2  toyota   Blue          32549      3   7000\n",
      "3     bmw  Black          11179      5  22000\n",
      "4  nissan  White         213095      4   3500\n",
      "5  toyota  Green          99213      4   4500\n",
      "6   honda   Blue          45698      4   7500\n",
      "7   honda   Blue          54738      4   7000\n",
      "8  toyota  White          60000      4   6250\n",
      "9  nissan  White          31600      4   9700\n"
     ]
    }
   ],
   "source": [
    "# Lower the strings of the Make column\n",
    "df2['Make'] = df2['Make'].str.lower()\n",
    "print(df2)"
   ]
  },
  {
   "cell_type": "markdown",
   "metadata": {},
   "source": [
    "If you check the car sales DataFrame, you'll notice the Make column hasn't been lowered.\n",
    "\n",
    "How could you make these changes permanent?\n",
    "\n",
    "Try it out."
   ]
  },
  {
   "cell_type": "code",
   "execution_count": 64,
   "metadata": {},
   "outputs": [],
   "source": [
    "# Make lowering the case of the Make column permanent\n",
    "df2['Make'] = df2['Make'].str.lower()"
   ]
  },
  {
   "cell_type": "code",
   "execution_count": 65,
   "metadata": {},
   "outputs": [
    {
     "name": "stdout",
     "output_type": "stream",
     "text": [
      "     Make Colour  Odometer (KM)  Doors  Price\n",
      "0  toyota  White         150043      4   4000\n",
      "1   honda    Red          87899      4   5000\n",
      "2  toyota   Blue          32549      3   7000\n",
      "3     bmw  Black          11179      5  22000\n",
      "4  nissan  White         213095      4   3500\n",
      "5  toyota  Green          99213      4   4500\n",
      "6   honda   Blue          45698      4   7500\n",
      "7   honda   Blue          54738      4   7000\n",
      "8  toyota  White          60000      4   6250\n",
      "9  nissan  White          31600      4   9700\n"
     ]
    }
   ],
   "source": [
    "# Check the car sales DataFrame\n",
    "print(df2)"
   ]
  },
  {
   "cell_type": "markdown",
   "metadata": {},
   "source": [
    "Notice how the Make column stays lowered after reassigning.\n",
    "\n",
    "Now let's deal with missing data."
   ]
  },
  {
   "cell_type": "code",
   "execution_count": 66,
   "metadata": {},
   "outputs": [
    {
     "name": "stdout",
     "output_type": "stream",
     "text": [
      "     Make Colour  Odometer  Doors    Price\n",
      "0  Toyota  White  150043.0    4.0   $4,000\n",
      "1   Honda    Red   87899.0    4.0   $5,000\n",
      "2  Toyota   Blue       NaN    3.0   $7,000\n",
      "3     BMW  Black   11179.0    5.0  $22,000\n",
      "4  Nissan  White  213095.0    4.0   $3,500\n",
      "5  Toyota  Green       NaN    4.0   $4,500\n",
      "6   Honda    NaN       NaN    4.0   $7,500\n",
      "7   Honda   Blue       NaN    4.0      NaN\n",
      "8  Toyota  White   60000.0    NaN      NaN\n",
      "9     NaN  White   31600.0    4.0   $9,700\n"
     ]
    }
   ],
   "source": [
    "# Import the car sales DataFrame with missing data (\"../data/car-sales-missing-data.csv\")\n",
    "missing_data = pd.read_csv('data/car-sales-missing-data.csv')\n",
    "\n",
    "# Check out the new DataFrame\n",
    "print(missing_data)"
   ]
  },
  {
   "cell_type": "markdown",
   "metadata": {},
   "source": [
    "Notice the missing values are represented as `NaN` in pandas DataFrames.\n",
    "\n",
    "Let's try fill them."
   ]
  },
  {
   "cell_type": "code",
   "execution_count": 67,
   "metadata": {},
   "outputs": [],
   "source": [
    "# Fill the Odometer column missing values with the mean of the column inplace\n",
    "missing_data['Odometer'].fillna(missing_data['Odometer'].mean(), inplace=True)"
   ]
  },
  {
   "cell_type": "code",
   "execution_count": 68,
   "metadata": {},
   "outputs": [
    {
     "name": "stdout",
     "output_type": "stream",
     "text": [
      "     Make Colour       Odometer  Doors    Price\n",
      "0  Toyota  White  150043.000000    4.0   $4,000\n",
      "1   Honda    Red   87899.000000    4.0   $5,000\n",
      "2  Toyota   Blue   92302.666667    3.0   $7,000\n",
      "3     BMW  Black   11179.000000    5.0  $22,000\n",
      "4  Nissan  White  213095.000000    4.0   $3,500\n",
      "5  Toyota  Green   92302.666667    4.0   $4,500\n",
      "6   Honda    NaN   92302.666667    4.0   $7,500\n",
      "7   Honda   Blue   92302.666667    4.0      NaN\n",
      "8  Toyota  White   60000.000000    NaN      NaN\n",
      "9     NaN  White   31600.000000    4.0   $9,700\n"
     ]
    }
   ],
   "source": [
    "# View the car sales missing DataFrame and verify the changes\n",
    "print(missing_data)"
   ]
  },
  {
   "cell_type": "code",
   "execution_count": 69,
   "metadata": {},
   "outputs": [],
   "source": [
    "# Remove the rest of the missing data inplace\n",
    "missing_data.dropna(inplace = True)\n"
   ]
  },
  {
   "cell_type": "code",
   "execution_count": 70,
   "metadata": {},
   "outputs": [
    {
     "name": "stdout",
     "output_type": "stream",
     "text": [
      "     Make Colour       Odometer  Doors    Price\n",
      "0  Toyota  White  150043.000000    4.0   $4,000\n",
      "1   Honda    Red   87899.000000    4.0   $5,000\n",
      "2  Toyota   Blue   92302.666667    3.0   $7,000\n",
      "3     BMW  Black   11179.000000    5.0  $22,000\n",
      "4  Nissan  White  213095.000000    4.0   $3,500\n",
      "5  Toyota  Green   92302.666667    4.0   $4,500\n"
     ]
    }
   ],
   "source": [
    "# Verify the missing values are removed by viewing the DataFrame\n",
    "print(missing_data)"
   ]
  },
  {
   "cell_type": "markdown",
   "metadata": {},
   "source": [
    "We'll now start to add columns to our DataFrame."
   ]
  },
  {
   "cell_type": "code",
   "execution_count": 73,
   "metadata": {},
   "outputs": [],
   "source": [
    "# Create a \"Seats\" column where every row has a value of 5\n",
    "missing_data['seats'] = 5"
   ]
  },
  {
   "cell_type": "code",
   "execution_count": 76,
   "metadata": {},
   "outputs": [],
   "source": [
    "# Create a column called \"Engine Size\" with random values between 1.3 and 4.5\n",
    "import numpy as np\n",
    "missing_data['Engine Size'] = np.random.uniform(1.3,4.5, size=len(missing_data))\n",
    "# Remember: If you're doing it from a Python list, the list has to be the same length\n",
    "# as the DataFrame"
   ]
  },
  {
   "cell_type": "code",
   "execution_count": 93,
   "metadata": {},
   "outputs": [
    {
     "name": "stdout",
     "output_type": "stream",
     "text": [
      "     Make Colour       Odometer  Doors    Price  seats  Engine Size  \\\n",
      "0  Toyota  White  150043.000000    4.0   $4,000      5     1.698626   \n",
      "1   Honda    Red   87899.000000    4.0   $5,000      5     2.853528   \n",
      "2  Toyota   Blue   92302.666667    3.0   $7,000      5     2.685470   \n",
      "3     BMW  Black   11179.000000    5.0  $22,000      5     2.714273   \n",
      "4  Nissan  White  213095.000000    4.0   $3,500      5     3.308135   \n",
      "5  Toyota  Green   92302.666667    4.0   $4,500      5     3.169822   \n",
      "\n",
      "   Price per kilometer  \n",
      "0             0.026659  \n",
      "1             0.056883  \n",
      "2             0.075837  \n",
      "3             1.967976  \n",
      "4             0.016425  \n",
      "5             0.048753  \n"
     ]
    },
    {
     "name": "stderr",
     "output_type": "stream",
     "text": [
      "C:\\Users\\EGYPT\\AppData\\Local\\Temp\\ipykernel_3440\\323716582.py:2: FutureWarning: The default value of regex will change from True to False in a future version.\n",
      "  missing_data['Price per kilometer'] = missing_data['Price'].str.replace('[^0-9.]', '').astype(float) / missing_data['Odometer']\n"
     ]
    }
   ],
   "source": [
    "# Create a column which represents the price of a car per kilometer\n",
    "missing_data['Price per kilometer'] = missing_data['Price'].str.replace('[^0-9.]', '').astype(float) / missing_data['Odometer']\n",
    "# Then view the DataFrame\n",
    "print(missing_data)"
   ]
  },
  {
   "cell_type": "code",
   "execution_count": 94,
   "metadata": {},
   "outputs": [],
   "source": [
    "# Remove the last column you added using .drop()\n",
    "missing_data.drop(columns=['Price per kilometer'], inplace=True)"
   ]
  },
  {
   "cell_type": "code",
   "execution_count": 96,
   "metadata": {},
   "outputs": [
    {
     "name": "stdout",
     "output_type": "stream",
     "text": [
      "     Make Colour       Odometer  Doors    Price  seats  Engine Size\n",
      "0  Toyota  White  150043.000000    4.0   $4,000      5     1.698626\n",
      "1   Honda    Red   87899.000000    4.0   $5,000      5     2.853528\n",
      "2  Toyota   Blue   92302.666667    3.0   $7,000      5     2.685470\n",
      "3     BMW  Black   11179.000000    5.0  $22,000      5     2.714273\n",
      "4  Nissan  White  213095.000000    4.0   $3,500      5     3.308135\n",
      "5  Toyota  Green   92302.666667    4.0   $4,500      5     3.169822\n"
     ]
    }
   ],
   "source": [
    "# Shuffle the DataFrame using sample() with the frac parameter set to 1\n",
    "\n",
    "# Save the the shuffled DataFrame to a new variable\n",
    "suffled_missing_data = missing_data.sample(frac=1)\n",
    "print(suffled_missing_data)"
   ]
  },
  {
   "cell_type": "markdown",
   "metadata": {},
   "source": [
    "Notice how the index numbers get moved around. The [`sample()`](https://pandas.pydata.org/pandas-docs/stable/reference/api/pandas.DataFrame.sample.html) function is a great way to get random samples from your DataFrame. It's also another great way to shuffle the rows by setting `frac=1`."
   ]
  },
  {
   "cell_type": "code",
   "execution_count": 102,
   "metadata": {},
   "outputs": [
    {
     "name": "stdout",
     "output_type": "stream",
     "text": [
      "     Make Colour       Odometer  Doors    Price  seats  Engine Size\n",
      "0  Toyota  White  150043.000000    4.0   $4,000      5     1.698626\n",
      "1   Honda    Red   87899.000000    4.0   $5,000      5     2.853528\n",
      "2  Toyota   Blue   92302.666667    3.0   $7,000      5     2.685470\n",
      "3     BMW  Black   11179.000000    5.0  $22,000      5     2.714273\n",
      "4  Nissan  White  213095.000000    4.0   $3,500      5     3.308135\n",
      "5  Toyota  Green   92302.666667    4.0   $4,500      5     3.169822\n"
     ]
    }
   ],
   "source": [
    "# Reset the indexes of the shuffled DataFrame\n",
    "suffled_missing_data.reset_index(drop=True, inplace=True)\n",
    "print(suffled_missing_data)"
   ]
  },
  {
   "cell_type": "markdown",
   "metadata": {},
   "source": [
    "Notice the index numbers have been changed to have order (start from 0)."
   ]
  },
  {
   "cell_type": "code",
   "execution_count": 103,
   "metadata": {},
   "outputs": [
    {
     "name": "stdout",
     "output_type": "stream",
     "text": [
      "     Make Colour       Odometer  Doors    Price  seats  Engine Size\n",
      "0  Toyota  White   93232.368953    4.0   $4,000      5     1.698626\n",
      "1   Honda    Red   54617.889529    4.0   $5,000      5     2.853528\n",
      "2  Toyota   Blue   57354.200289    3.0   $7,000      5     2.685470\n",
      "3     BMW  Black    6946.306409    5.0  $22,000      5     2.714273\n",
      "4  Nissan  White  132411.053245    4.0   $3,500      5     3.308135\n",
      "5  Toyota  Green   57354.200289    4.0   $4,500      5     3.169822\n"
     ]
    }
   ],
   "source": [
    "# Change the Odometer values from kilometers to miles using a Lambda function\n",
    "# Then view the DataFrame\n",
    "missing_data['Odometer'] = missing_data['Odometer'].apply(lambda x: x * 0.621371)\n",
    "print(missing_data)"
   ]
  },
  {
   "cell_type": "code",
   "execution_count": 105,
   "metadata": {},
   "outputs": [
    {
     "name": "stdout",
     "output_type": "stream",
     "text": [
      "     Make Colour  Odometer (Miles)  Doors    Price  seats  Engine Size\n",
      "0  Toyota  White      93232.368953    4.0   $4,000      5     1.698626\n",
      "1   Honda    Red      54617.889529    4.0   $5,000      5     2.853528\n",
      "2  Toyota   Blue      57354.200289    3.0   $7,000      5     2.685470\n",
      "3     BMW  Black       6946.306409    5.0  $22,000      5     2.714273\n",
      "4  Nissan  White     132411.053245    4.0   $3,500      5     3.308135\n",
      "5  Toyota  Green      57354.200289    4.0   $4,500      5     3.169822\n"
     ]
    }
   ],
   "source": [
    "# Change the title of the Odometer (KM) to represent miles instead of kilometers\n",
    "missing_data.rename(columns={'Odometer':'Odometer (Miles)'},inplace=True)\n",
    "print(missing_data)"
   ]
  },
  {
   "cell_type": "markdown",
   "metadata": {},
   "source": [
    "## Extensions\n",
    "\n",
    "For more exercises, check out the pandas documentation, particularly the [10-minutes to pandas section](https://pandas.pydata.org/pandas-docs/stable/user_guide/10min.html). \n",
    "\n",
    "One great exercise would be to retype out the entire section into a Jupyter Notebook of your own.\n",
    "\n",
    "Get hands-on with the code and see what it does.\n",
    "\n",
    "The next place you should check out are the [top questions and answers on Stack Overflow for pandas](https://stackoverflow.com/questions/tagged/pandas?sort=MostVotes&edited=true). Often, these contain some of the most useful and common pandas functions. Be sure to play around with the different filters!\n",
    "\n",
    "Finally, always remember, the best way to learn something new to is try it. Make mistakes. Ask questions, get things wrong, take note of the things you do most often. And don't worry if you keep making the same mistake, pandas has many ways to do the same thing and is a big library. So it'll likely take a while before you get the hang of it."
   ]
  }
 ],
 "metadata": {
  "kernelspec": {
   "display_name": "Python 3",
   "language": "python",
   "name": "python3"
  },
  "language_info": {
   "codemirror_mode": {
    "name": "ipython",
    "version": 3
   },
   "file_extension": ".py",
   "mimetype": "text/x-python",
   "name": "python",
   "nbconvert_exporter": "python",
   "pygments_lexer": "ipython3",
   "version": "3.9.16"
  }
 },
 "nbformat": 4,
 "nbformat_minor": 2
}
